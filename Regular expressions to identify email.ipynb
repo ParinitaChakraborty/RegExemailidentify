{
 "cells": [
  {
   "cell_type": "code",
   "execution_count": 9,
   "id": "596bf5e4",
   "metadata": {},
   "outputs": [
    {
     "name": "stdout",
     "output_type": "stream",
     "text": [
      "vishaljain@gmail.ghi\n",
      "invalid email\n"
     ]
    }
   ],
   "source": [
    "import re\n",
    "pattern = \"[a-zA-Z0-9]+@[a-zzA-Z]+\\.(com|edu|net)\"\n",
    "user_input = input()\n",
    "if (re.search(pattern, user_input)):\n",
    "    print(\"valid email\")\n",
    "else:\n",
    "    print (\"invalid email\")"
   ]
  },
  {
   "cell_type": "code",
   "execution_count": null,
   "id": "afb08429",
   "metadata": {},
   "outputs": [],
   "source": []
  },
  {
   "cell_type": "code",
   "execution_count": null,
   "id": "90d48eea",
   "metadata": {},
   "outputs": [],
   "source": []
  }
 ],
 "metadata": {
  "kernelspec": {
   "display_name": "Python 3",
   "language": "python",
   "name": "python3"
  },
  "language_info": {
   "codemirror_mode": {
    "name": "ipython",
    "version": 3
   },
   "file_extension": ".py",
   "mimetype": "text/x-python",
   "name": "python",
   "nbconvert_exporter": "python",
   "pygments_lexer": "ipython3",
   "version": "3.8.8"
  }
 },
 "nbformat": 4,
 "nbformat_minor": 5
}
